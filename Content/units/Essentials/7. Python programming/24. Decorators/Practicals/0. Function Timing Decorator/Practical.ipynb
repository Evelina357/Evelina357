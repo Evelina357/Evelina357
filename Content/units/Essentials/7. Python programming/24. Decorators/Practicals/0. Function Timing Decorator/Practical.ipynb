{
  "cells": [
    {
      "cell_type": "markdown",
      "metadata": {
        "id": "qgwGNRWJeDux"
      },
      "source": [
        "# Function Timing Decorator"
      ]
    },
    {
      "cell_type": "markdown",
      "metadata": {
        "id": "OQLK1KBjeDuz"
      },
      "source": [
        "### 1. Creating a Start-End Decorator\n",
        "Define a simple function called `inside` that prints \"Inside our function!\" and does nothing else."
      ]
    },
    {
      "cell_type": "code",
      "execution_count": 27,
      "metadata": {
        "id": "BLOYqpFOeDuz"
      },
      "outputs": [],
      "source": [
        "# TODO - Define a function to print \"Inside our function!\"\n",
        "def inside():\n",
        "  print(\"Inside our function\")\n",
        "\n"
      ]
    },
    {
      "cell_type": "markdown",
      "metadata": {
        "id": "lb5XR7DkeDu0"
      },
      "source": [
        "Create a decorator that prints \"Start\" and \"End\" at the start and end of a function call."
      ]
    },
    {
      "cell_type": "code",
      "execution_count": 28,
      "metadata": {
        "id": "hRnGlhkOeDu0"
      },
      "outputs": [],
      "source": [
        "# TODO - Create a start-end decorator\n",
        "def decorator(func):\n",
        "  def wrapper():\n",
        "    print(\"Start\")\n",
        "    func()\n",
        "    print(\"End\")\n",
        "  return wrapper\n"
      ]
    },
    {
      "cell_type": "markdown",
      "metadata": {
        "id": "QHauMOhzeDu1"
      },
      "source": [
        "Call the decorator function, passing the `inside` function as an argument. Save the output to a variable.\n",
        "To check your code is correct, make a function call using this variable. The resulting output should look like the below:\n",
        "\n",
        "```python\n",
        "Start\n",
        "Inside our function!\n",
        "End\n",
        "```"
      ]
    },
    {
      "cell_type": "code",
      "execution_count": 29,
      "metadata": {
        "id": "6x5X91mteDu1",
        "outputId": "11cdde62-79f0-4aa7-a297-3450f414fc6e",
        "colab": {
          "base_uri": "https://localhost:8080/",
          "height": 0
        }
      },
      "outputs": [
        {
          "output_type": "stream",
          "name": "stdout",
          "text": [
            "Start\n",
            "Inside our function\n",
            "End\n"
          ]
        }
      ],
      "source": [
        "# TODO - put your decorator and custom function together, then call the output\n",
        "my_decorator = decorator(inside)\n",
        "my_decorator()"
      ]
    },
    {
      "cell_type": "markdown",
      "metadata": {
        "id": "GxAoxC6-eDu1"
      },
      "source": [
        "### 2. Timer Decorator"
      ]
    },
    {
      "cell_type": "markdown",
      "metadata": {
        "id": "gY6AJRYTeDu1"
      },
      "source": [
        "Create a new decorator to time how long a function takes to run, and print the duration. Hint: you will need to import and use the `time` module."
      ]
    },
    {
      "cell_type": "code",
      "execution_count": 34,
      "metadata": {
        "id": "lF6CkTQyeDu1",
        "outputId": "7539df95-23f3-44ee-d870-3eae50e4c89a",
        "colab": {
          "base_uri": "https://localhost:8080/",
          "height": 0
        }
      },
      "outputs": [
        {
          "output_type": "stream",
          "name": "stdout",
          "text": [
            "It took 7.152557373046875e-07 seconds to run this function.\n"
          ]
        }
      ],
      "source": [
        "\n",
        "# TODO - Create a timer decorator function\n",
        "\n",
        "import time\n",
        "\n",
        "def get_time():\n",
        "  time_0 = time.time()\n",
        "  time_1 = time.time()\n",
        "  print(f'It took {time_1 - time_0} seconds to run this function.')\n",
        "\n",
        "get_time()\n"
      ]
    },
    {
      "cell_type": "markdown",
      "metadata": {
        "id": "ws32gjR2eDu2"
      },
      "source": [
        "Call this timer decorator on the `inside` function, saving the output to a new function, then call that function."
      ]
    },
    {
      "cell_type": "code",
      "execution_count": 38,
      "metadata": {
        "id": "nSZ7yGwveDu2",
        "outputId": "be8b17d0-3372-48c6-9f50-b40a58caf6b1",
        "colab": {
          "base_uri": "https://localhost:8080/",
          "height": 0
        }
      },
      "outputs": [
        {
          "output_type": "stream",
          "name": "stdout",
          "text": [
            "Inside our function\n",
            "It took 5.364418029785156e-05 seconds to run this function.\n"
          ]
        }
      ],
      "source": [
        "# TODO - Find out the duration of the `inside` function\n",
        "\n",
        "import time\n",
        "\n",
        "def get_time(func):\n",
        "  def wrapper():\n",
        "    time_0 = time.time()\n",
        "    func()\n",
        "    time_1 = time.time()\n",
        "    print(f'It took {time_1 - time_0} seconds to run this function.')\n",
        "  return wrapper\n",
        "\n",
        "timed_inside = get_time(inside)\n",
        "timed_inside()\n"
      ]
    }
  ],
  "metadata": {
    "kernelspec": {
      "display_name": "base",
      "language": "python",
      "name": "python3"
    },
    "language_info": {
      "codemirror_mode": {
        "name": "ipython",
        "version": 3
      },
      "file_extension": ".py",
      "mimetype": "text/x-python",
      "name": "python",
      "nbconvert_exporter": "python",
      "pygments_lexer": "ipython3",
      "version": "3.9.13"
    },
    "colab": {
      "provenance": []
    }
  },
  "nbformat": 4,
  "nbformat_minor": 0
}